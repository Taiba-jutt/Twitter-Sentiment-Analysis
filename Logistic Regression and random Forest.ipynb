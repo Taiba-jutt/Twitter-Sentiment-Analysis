{
 "cells": [
  {
   "cell_type": "code",
   "execution_count": 20,
   "id": "1dcfc1f7-b583-406d-992b-a38e007e4524",
   "metadata": {},
   "outputs": [],
   "source": [
    " # imports\n",
    "import pandas as pd\n",
    "import numpy as np\n",
    "import matplotlib.pyplot as plt\n",
    "import seaborn as sns\n",
    "\n",
    "from sklearn.model_selection import train_test_split\n",
    "from sklearn.preprocessing import StandardScaler\n",
    "from sklearn.linear_model import LogisticRegression\n",
    "from sklearn.tree import DecisionTreeClassifier\n",
    "from sklearn.ensemble import RandomForestClassifier\n",
    "from sklearn.metrics import accuracy_score, classification_report, confusion_matrix, precision_score, recall_score, f1_score\n",
    "import joblib\n"
   ]
  },
  {
   "cell_type": "code",
   "execution_count": 2,
   "id": "e0454866-3a1f-4ce6-ab54-78e527804059",
   "metadata": {},
   "outputs": [
    {
     "data": {
      "text/html": [
       "<div>\n",
       "<style scoped>\n",
       "    .dataframe tbody tr th:only-of-type {\n",
       "        vertical-align: middle;\n",
       "    }\n",
       "\n",
       "    .dataframe tbody tr th {\n",
       "        vertical-align: top;\n",
       "    }\n",
       "\n",
       "    .dataframe thead th {\n",
       "        text-align: right;\n",
       "    }\n",
       "</style>\n",
       "<table border=\"1\" class=\"dataframe\">\n",
       "  <thead>\n",
       "    <tr style=\"text-align: right;\">\n",
       "      <th></th>\n",
       "      <th>textID</th>\n",
       "      <th>text</th>\n",
       "      <th>selected_text</th>\n",
       "      <th>sentiment</th>\n",
       "    </tr>\n",
       "  </thead>\n",
       "  <tbody>\n",
       "    <tr>\n",
       "      <th>0</th>\n",
       "      <td>cb774db0d1</td>\n",
       "      <td>I`d have responded, if I were going</td>\n",
       "      <td>I`d have responded, if I were going</td>\n",
       "      <td>neutral</td>\n",
       "    </tr>\n",
       "    <tr>\n",
       "      <th>1</th>\n",
       "      <td>549e992a42</td>\n",
       "      <td>Sooo SAD I will miss you here in San Diego!!!</td>\n",
       "      <td>Sooo SAD</td>\n",
       "      <td>negative</td>\n",
       "    </tr>\n",
       "    <tr>\n",
       "      <th>2</th>\n",
       "      <td>088c60f138</td>\n",
       "      <td>my boss is bullying me...</td>\n",
       "      <td>bullying me</td>\n",
       "      <td>negative</td>\n",
       "    </tr>\n",
       "    <tr>\n",
       "      <th>3</th>\n",
       "      <td>9642c003ef</td>\n",
       "      <td>what interview! leave me alone</td>\n",
       "      <td>leave me alone</td>\n",
       "      <td>negative</td>\n",
       "    </tr>\n",
       "    <tr>\n",
       "      <th>4</th>\n",
       "      <td>358bd9e861</td>\n",
       "      <td>Sons of ****, why couldn`t they put them on t...</td>\n",
       "      <td>Sons of ****,</td>\n",
       "      <td>negative</td>\n",
       "    </tr>\n",
       "  </tbody>\n",
       "</table>\n",
       "</div>"
      ],
      "text/plain": [
       "       textID                                               text  \\\n",
       "0  cb774db0d1                I`d have responded, if I were going   \n",
       "1  549e992a42      Sooo SAD I will miss you here in San Diego!!!   \n",
       "2  088c60f138                          my boss is bullying me...   \n",
       "3  9642c003ef                     what interview! leave me alone   \n",
       "4  358bd9e861   Sons of ****, why couldn`t they put them on t...   \n",
       "\n",
       "                         selected_text sentiment  \n",
       "0  I`d have responded, if I were going   neutral  \n",
       "1                             Sooo SAD  negative  \n",
       "2                          bullying me  negative  \n",
       "3                       leave me alone  negative  \n",
       "4                        Sons of ****,  negative  "
      ]
     },
     "execution_count": 2,
     "metadata": {},
     "output_type": "execute_result"
    }
   ],
   "source": [
    "#  load data\n",
    "df = pd.read_csv(\"Tweets.csv\")\n",
    "df.head()\n"
   ]
  },
  {
   "cell_type": "code",
   "execution_count": 3,
   "id": "d6684ac3-7955-4469-8544-622f7797075c",
   "metadata": {},
   "outputs": [
    {
     "name": "stdout",
     "output_type": "stream",
     "text": [
      "Columns: ['textID', 'text', 'selected_text', 'sentiment']\n",
      "Missing values:\n",
      " textID           0\n",
      "text             1\n",
      "selected_text    1\n",
      "sentiment        0\n",
      "dtype: int64\n"
     ]
    }
   ],
   "source": [
    "#  inspect\n",
    "print(\"Columns:\", df.columns.tolist())\n",
    "print(\"Missing values:\\n\", df.isnull().sum())\n",
    "\n",
    "# Fill missing text safely (prevents AttributeError)\n",
    "df['text'] = df['text'].fillna('').astype(str)\n"
   ]
  },
  {
   "cell_type": "code",
   "execution_count": 4,
   "id": "804f03d3-76e8-4818-9fbd-29842ba80a79",
   "metadata": {},
   "outputs": [
    {
     "data": {
      "text/html": [
       "<div>\n",
       "<style scoped>\n",
       "    .dataframe tbody tr th:only-of-type {\n",
       "        vertical-align: middle;\n",
       "    }\n",
       "\n",
       "    .dataframe tbody tr th {\n",
       "        vertical-align: top;\n",
       "    }\n",
       "\n",
       "    .dataframe thead th {\n",
       "        text-align: right;\n",
       "    }\n",
       "</style>\n",
       "<table border=\"1\" class=\"dataframe\">\n",
       "  <thead>\n",
       "    <tr style=\"text-align: right;\">\n",
       "      <th></th>\n",
       "      <th>text</th>\n",
       "      <th>text_length</th>\n",
       "      <th>word_count</th>\n",
       "      <th>char_count</th>\n",
       "    </tr>\n",
       "  </thead>\n",
       "  <tbody>\n",
       "    <tr>\n",
       "      <th>0</th>\n",
       "      <td>I`d have responded, if I were going</td>\n",
       "      <td>36</td>\n",
       "      <td>7</td>\n",
       "      <td>29</td>\n",
       "    </tr>\n",
       "    <tr>\n",
       "      <th>1</th>\n",
       "      <td>Sooo SAD I will miss you here in San Diego!!!</td>\n",
       "      <td>46</td>\n",
       "      <td>10</td>\n",
       "      <td>36</td>\n",
       "    </tr>\n",
       "    <tr>\n",
       "      <th>2</th>\n",
       "      <td>my boss is bullying me...</td>\n",
       "      <td>25</td>\n",
       "      <td>5</td>\n",
       "      <td>21</td>\n",
       "    </tr>\n",
       "    <tr>\n",
       "      <th>3</th>\n",
       "      <td>what interview! leave me alone</td>\n",
       "      <td>31</td>\n",
       "      <td>5</td>\n",
       "      <td>26</td>\n",
       "    </tr>\n",
       "    <tr>\n",
       "      <th>4</th>\n",
       "      <td>Sons of ****, why couldn`t they put them on t...</td>\n",
       "      <td>75</td>\n",
       "      <td>14</td>\n",
       "      <td>61</td>\n",
       "    </tr>\n",
       "  </tbody>\n",
       "</table>\n",
       "</div>"
      ],
      "text/plain": [
       "                                                text  text_length  word_count  \\\n",
       "0                I`d have responded, if I were going           36           7   \n",
       "1      Sooo SAD I will miss you here in San Diego!!!           46          10   \n",
       "2                          my boss is bullying me...           25           5   \n",
       "3                     what interview! leave me alone           31           5   \n",
       "4   Sons of ****, why couldn`t they put them on t...           75          14   \n",
       "\n",
       "   char_count  \n",
       "0          29  \n",
       "1          36  \n",
       "2          21  \n",
       "3          26  \n",
       "4          61  "
      ]
     },
     "execution_count": 4,
     "metadata": {},
     "output_type": "execute_result"
    }
   ],
   "source": [
    "#  create simple numeric features\n",
    "df['text_length'] = df['text'].str.len()\n",
    "df['word_count']  = df['text'].str.split().str.len()\n",
    "df['char_count']  = df['text'].str.replace(' ', '', regex=False).str.len()\n",
    "\n",
    "df[['text','text_length','word_count','char_count']].head()\n"
   ]
  },
  {
   "cell_type": "code",
   "execution_count": 5,
   "id": "67c575e5-f017-4c70-bb18-2fb4d4e2168c",
   "metadata": {},
   "outputs": [
    {
     "name": "stdout",
     "output_type": "stream",
     "text": [
      "Unique sentiment labels: ['neutral' 'negative' 'positive']\n",
      "Label mapping (code -> label): {0: 'negative', 1: 'neutral', 2: 'positive'}\n"
     ]
    },
    {
     "data": {
      "text/plain": [
       "sentiment_label\n",
       "1    11118\n",
       "2     8582\n",
       "0     7781\n",
       "Name: count, dtype: int64"
      ]
     },
     "execution_count": 5,
     "metadata": {},
     "output_type": "execute_result"
    }
   ],
   "source": [
    "#  encode target\n",
    "print(\"Unique sentiment labels:\", df['sentiment'].unique())\n",
    "\n",
    "# convert to categorical codes\n",
    "df['sentiment_label'] = df['sentiment'].astype('category').cat.codes\n",
    "label_mapping = dict(enumerate(df['sentiment'].astype('category').cat.categories))\n",
    "print(\"Label mapping (code -> label):\", label_mapping)\n",
    "\n",
    "df['sentiment_label'].value_counts()\n"
   ]
  },
  {
   "cell_type": "code",
   "execution_count": 6,
   "id": "81388295-5fca-4c47-b41d-9e9e8656c17c",
   "metadata": {},
   "outputs": [
    {
     "data": {
      "text/plain": [
       "((27481, 3),\n",
       " (27481,),\n",
       "    text_length  word_count  char_count\n",
       " 0           36           7          29\n",
       " 1           46          10          36\n",
       " 2           25           5          21\n",
       " 3           31           5          26\n",
       " 4           75          14          61)"
      ]
     },
     "execution_count": 6,
     "metadata": {},
     "output_type": "execute_result"
    }
   ],
   "source": [
    "#  features and target\n",
    "feature_cols = ['text_length','word_count','char_count']\n",
    "X = df[feature_cols]\n",
    "y = df['sentiment_label']\n",
    "\n",
    "X.shape, y.shape, X.head()\n"
   ]
  },
  {
   "cell_type": "code",
   "execution_count": 7,
   "id": "14776d64-a167-4912-8860-6dc4ebe02d41",
   "metadata": {},
   "outputs": [
    {
     "name": "stdout",
     "output_type": "stream",
     "text": [
      "Train: (21984, 3) Test: (5497, 3)\n"
     ]
    }
   ],
   "source": [
    "#  split\n",
    "X_train, X_test, y_train, y_test = train_test_split(\n",
    "    X, y, test_size=0.2, random_state=42, stratify=y\n",
    ")\n",
    "print(\"Train:\", X_train.shape, \"Test:\", X_test.shape)\n"
   ]
  },
  {
   "cell_type": "code",
   "execution_count": 8,
   "id": "11e5309f-4964-4924-894b-77f27c2f6d18",
   "metadata": {},
   "outputs": [],
   "source": [
    "# scaling\n",
    "scaler = StandardScaler()\n",
    "X_train_scaled = scaler.fit_transform(X_train)\n",
    "X_test_scaled  = scaler.transform(X_test)\n"
   ]
  },
  {
   "cell_type": "code",
   "execution_count": 10,
   "id": "b0bb6d7a-6775-4df9-8b94-102e2a6c3d32",
   "metadata": {},
   "outputs": [
    {
     "name": "stdout",
     "output_type": "stream",
     "text": [
      "Decision Tree Accuracy: 36.35 %\n",
      "\n",
      "Decision Tree classification report:\n",
      "               precision    recall  f1-score   support\n",
      "\n",
      "           0       0.30      0.31      0.30      1556\n",
      "           1       0.41      0.50      0.45      2224\n",
      "           2       0.34      0.23      0.28      1717\n",
      "\n",
      "    accuracy                           0.36      5497\n",
      "   macro avg       0.35      0.35      0.34      5497\n",
      "weighted avg       0.36      0.36      0.36      5497\n",
      "\n"
     ]
    }
   ],
   "source": [
    "#  Decision Tree\n",
    "dt_model = DecisionTreeClassifier(random_state=42)\n",
    "dt_model.fit(X_train, y_train)\n",
    "\n",
    "y_pred_dt = dt_model.predict(X_test)\n",
    "dt_acc = accuracy_score(y_test, y_pred_dt)\n",
    "pd.Series(dt_model.feature_importances_, index=feature_cols).sort_values(ascending=False)\n",
    "\n",
    "print(\"Decision Tree Accuracy:\", round(dt_acc*100,2), \"%\")\n",
    "print(\"\\nDecision Tree classification report:\\n\", classification_report(y_test, y_pred_dt))\n"
   ]
  },
  {
   "cell_type": "code",
   "execution_count": 11,
   "id": "8f1d7aa4-145c-49f9-9e6c-5fea050aa3d8",
   "metadata": {},
   "outputs": [
    {
     "name": "stdout",
     "output_type": "stream",
     "text": [
      "Random Forest Accuracy: 37.09 %\n",
      "\n",
      "Random Forest classification report:\n",
      "               precision    recall  f1-score   support\n",
      "\n",
      "           0       0.31      0.23      0.27      1556\n",
      "           1       0.41      0.53      0.46      2224\n",
      "           2       0.34      0.29      0.31      1717\n",
      "\n",
      "    accuracy                           0.37      5497\n",
      "   macro avg       0.35      0.35      0.35      5497\n",
      "weighted avg       0.36      0.37      0.36      5497\n",
      "\n"
     ]
    },
    {
     "data": {
      "text/plain": [
       "text_length    0.413160\n",
       "char_count     0.393677\n",
       "word_count     0.193163\n",
       "dtype: float64"
      ]
     },
     "execution_count": 11,
     "metadata": {},
     "output_type": "execute_result"
    }
   ],
   "source": [
    "#  Random Forest (baseline)\n",
    "rf_model = RandomForestClassifier(n_estimators=100, random_state=42)\n",
    "rf_model.fit(X_train, y_train)\n",
    "\n",
    "y_pred_rf = rf_model.predict(X_test)\n",
    "rf_acc = accuracy_score(y_test, y_pred_rf)\n",
    "print(\"Random Forest Accuracy:\", round(rf_acc*100,2), \"%\")\n",
    "print(\"\\nRandom Forest classification report:\\n\", classification_report(y_test, y_pred_rf))\n",
    "\n",
    "# Feature importances\n",
    "pd.Series(rf_model.feature_importances_, index=feature_cols).sort_values(ascending=False)\n"
   ]
  },
  {
   "cell_type": "code",
   "execution_count": 12,
   "id": "1d74505e-799e-4178-9b6d-b4f3abc744fe",
   "metadata": {},
   "outputs": [
    {
     "data": {
      "image/png": "[encoded data removed]",
      "text/plain": [
       "<Figure size 1200x400 with 4 Axes>"
      ]
     },
     "metadata": {},
     "output_type": "display_data"
    }
   ],
   "source": [
    "#  confusion matrices\n",
    "fig, axes = plt.subplots(1,2, figsize=(12,4))\n",
    "sns.heatmap(confusion_matrix(y_test, y_pred_dt), annot=True, fmt='d', ax=axes[0], cmap='Blues')\n",
    "axes[0].set_title('Decision Tree CM'); axes[0].set_xlabel('Predicted'); axes[0].set_ylabel('Actual')\n",
    "\n",
    "sns.heatmap(confusion_matrix(y_test, y_pred_rf), annot=True, fmt='d', ax=axes[1], cmap='Greens')\n",
    "axes[1].set_title('Random Forest CM'); axes[1].set_xlabel('Predicted'); axes[1].set_ylabel('Actual')\n",
    "plt.show()\n"
   ]
  },
  {
   "cell_type": "code",
   "execution_count": 15,
   "id": "b09a4d92-2fae-48af-a2ba-1315fe2d21c6",
   "metadata": {},
   "outputs": [
    {
     "data": {
      "text/html": [
       "<div>\n",
       "<style scoped>\n",
       "    .dataframe tbody tr th:only-of-type {\n",
       "        vertical-align: middle;\n",
       "    }\n",
       "\n",
       "    .dataframe tbody tr th {\n",
       "        vertical-align: top;\n",
       "    }\n",
       "\n",
       "    .dataframe thead th {\n",
       "        text-align: right;\n",
       "    }\n",
       "</style>\n",
       "<table border=\"1\" class=\"dataframe\">\n",
       "  <thead>\n",
       "    <tr style=\"text-align: right;\">\n",
       "      <th></th>\n",
       "      <th>Model</th>\n",
       "      <th>Accuracy</th>\n",
       "      <th>Precision (macro)</th>\n",
       "      <th>Recall (macro)</th>\n",
       "      <th>F1 (macro)</th>\n",
       "    </tr>\n",
       "  </thead>\n",
       "  <tbody>\n",
       "    <tr>\n",
       "      <th>0</th>\n",
       "      <td>Decision Tree</td>\n",
       "      <td>36.35</td>\n",
       "      <td>0.350311</td>\n",
       "      <td>0.347835</td>\n",
       "      <td>0.344100</td>\n",
       "    </tr>\n",
       "    <tr>\n",
       "      <th>1</th>\n",
       "      <td>Random Forest</td>\n",
       "      <td>37.09</td>\n",
       "      <td>0.354003</td>\n",
       "      <td>0.351135</td>\n",
       "      <td>0.347730</td>\n",
       "    </tr>\n",
       "    <tr>\n",
       "      <th>2</th>\n",
       "      <td>Logistic Regression</td>\n",
       "      <td>40.00</td>\n",
       "      <td>0.369422</td>\n",
       "      <td>0.340753</td>\n",
       "      <td>0.259356</td>\n",
       "    </tr>\n",
       "  </tbody>\n",
       "</table>\n",
       "</div>"
      ],
      "text/plain": [
       "                 Model  Accuracy  Precision (macro)  Recall (macro)  \\\n",
       "0        Decision Tree     36.35           0.350311        0.347835   \n",
       "1        Random Forest     37.09           0.354003        0.351135   \n",
       "2  Logistic Regression     40.00           0.369422        0.340753   \n",
       "\n",
       "   F1 (macro)  \n",
       "0    0.344100  \n",
       "1    0.347730  \n",
       "2    0.259356  "
      ]
     },
     "execution_count": 15,
     "metadata": {},
     "output_type": "execute_result"
    }
   ],
   "source": [
    "#  Comparison metrics\n",
    "results = pd.DataFrame({\n",
    "    'Model': ['Decision Tree', 'Random Forest', 'Logistic Regression'],\n",
    "    'Accuracy': [round(dt_acc*100,2), round(rf_acc*100,2), round(log_acc*100,2)],\n",
    "    'Precision (macro)': [\n",
    "        precision_score(y_test, y_pred_dt, average='macro'),\n",
    "        precision_score(y_test, y_pred_rf, average='macro'),\n",
    "        precision_score(y_test, y_pred_log, average='macro')\n",
    "    ],\n",
    "    'Recall (macro)': [\n",
    "        recall_score(y_test, y_pred_dt, average='macro'),\n",
    "        recall_score(y_test, y_pred_rf, average='macro'),\n",
    "        recall_score(y_test, y_pred_log, average='macro')\n",
    "    ],\n",
    "    'F1 (macro)': [\n",
    "        f1_score(y_test, y_pred_dt, average='macro'),\n",
    "        f1_score(y_test, y_pred_rf, average='macro'),\n",
    "        f1_score(y_test, y_pred_log, average='macro')\n",
    "    ]\n",
    "})\n",
    "results\n"
   ]
  },
  {
   "cell_type": "code",
   "execution_count": 16,
   "id": "e96da6a7-0648-4867-a02f-3881da018125",
   "metadata": {},
   "outputs": [
    {
     "data": {
      "image/png": "[encoded data removed]",
      "text/plain": [
       "<Figure size 600x400 with 1 Axes>"
      ]
     },
     "metadata": {},
     "output_type": "display_data"
    }
   ],
   "source": [
    "#  plot accuracies\n",
    "plt.figure(figsize=(6,4))\n",
    "sns.barplot(x='Model', y='Accuracy', data=results)\n",
    "plt.ylim(0,100)\n",
    "plt.title('Model Accuracy Comparison')\n",
    "plt.show()\n"
   ]
  },
  {
   "cell_type": "code",
   "execution_count": 17,
   "id": "0484bf48-4dde-4faa-9225-5d64f0f28a9b",
   "metadata": {},
   "outputs": [
    {
     "name": "stdout",
     "output_type": "stream",
     "text": [
      "Saved best model and scaler.\n"
     ]
    }
   ],
   "source": [
    "#  save best model (example: if RF is best)\n",
    "best_model = rf_model    # choose which is best based on accuracy\n",
    "joblib.dump(best_model, 'best_classification_model.joblib')\n",
    "joblib.dump(scaler, 'scaler.joblib')   # save scaler if Logistic uses it\n",
    "print(\"Saved best model and scaler.\")\n"
   ]
  },
  {
   "cell_type": "code",
   "execution_count": null,
   "id": "125f3fa9-96ee-46d2-84b5-59c640bb9160",
   "metadata": {},
   "outputs": [],
   "source": []
  }
 ],
 "metadata": {
  "kernelspec": {
   "display_name": "Python 3 (ipykernel)",
   "language": "python",
   "name": "python3"
  },
  "language_info": {
   "codemirror_mode": {
    "name": "ipython",
    "version": 3
   },
   "file_extension": ".py",
   "mimetype": "text/x-python",
   "name": "python",
   "nbconvert_exporter": "python",
   "pygments_lexer": "ipython3",
   "version": "3.13.5"
  }
 },
 "nbformat": 4,
 "nbformat_minor": 5
}
